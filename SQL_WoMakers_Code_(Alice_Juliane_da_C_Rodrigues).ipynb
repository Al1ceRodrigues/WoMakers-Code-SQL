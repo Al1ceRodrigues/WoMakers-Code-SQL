{
  "nbformat": 4,
  "nbformat_minor": 0,
  "metadata": {
    "colab": {
      "provenance": []
    },
    "kernelspec": {
      "name": "python3",
      "display_name": "Python 3"
    },
    "language_info": {
      "name": "python"
    }
  },
  "cells": [
    {
      "cell_type": "code",
      "execution_count": null,
      "metadata": {
        "id": "CpnVQlj6Mpaa"
      },
      "outputs": [],
      "source": [
        "# Crie uma tabela chamada \"alunos\" com os seguintes campos: id(inteiro), nome (texto), idade (inteiro) e curso (texto).\n",
        "\n",
        "CREATE TABLE alunos (\n",
        "    id INT PRIMARY KEY,\n",
        "    nome TEXT,\n",
        "    idade INT,\n",
        "    curso TEXT\n",
        ");"
      ]
    },
    {
      "cell_type": "code",
      "source": [
        "# Insira pelo menos 5 registros de alunos na tabela que você criou no exercício anterior.\n",
        "\n",
        "INSERT INTO alunos (id, nome, idade, curso) VALUES\n",
        "(1, 'Beyonce', 42, 'Engenharia'),\n",
        "(2, 'Rihanna', 36, 'Moda'),\n",
        "(3, 'Normani', 19, 'Direito'),\n",
        "(4, 'Sade', 65, 'Administração'),\n",
        "(5, 'Madonna', 65, 'História');"
      ],
      "metadata": {
        "id": "DAWqH5L6Oqdl"
      },
      "execution_count": null,
      "outputs": []
    },
    {
      "cell_type": "code",
      "source": [
        " #vConsultas Básicas\n",
        "\n",
        "SELECT * FROM alunos;\n",
        "\n",
        "SELECT nome, idade FROM alunos WHERE idade > 20;\n",
        "\n",
        "SELECT * FROM alunos WHERE curso = 'Engenharia' ORDER BY nome;\n",
        "\n",
        "SELECT COUNT(*) AS total_alunos FROM alunos;\n"
      ],
      "metadata": {
        "id": "8H9JtBf1PSq6"
      },
      "execution_count": null,
      "outputs": []
    },
    {
      "cell_type": "code",
      "source": [
        "# . Atualização e Remoção\n",
        "\n",
        "UPDATE alunos\n",
        "SET idade = 25\n",
        "WHERE id = 1;\n",
        "\n",
        "DELETE FROM alunos\n",
        "WHERE id = 3;"
      ],
      "metadata": {
        "id": "9Q2gtwV9Rhio"
      },
      "execution_count": null,
      "outputs": []
    },
    {
      "cell_type": "code",
      "source": [
        "# Criar uma Tabela e Inserir Dados Crie uma tabela chamada \"clientes\" com os campos: id (chave primária), nome (texto), idade (inteiro) e saldo (float).\n",
        "\n",
        "CREATE TABLE clientes (\n",
        "    id INT PRIMARY KEY,\n",
        "    nome TEXT,\n",
        "    idade INT,\n",
        "    saldo FLOAT\n",
        ");\n",
        "\n",
        "# Insira alguns registros de clientes na tabela.\n",
        "\n",
        "INSERT INTO clientes (id, nome, idade, saldo) VALUES\n",
        "(1, 'Lady Gaga', 30, 1500.50),\n",
        "(2, 'Nicki Minaj', 25, 2000.75),\n",
        "(3, 'Doja Cat', 40, 1800.25),\n",
        "(4, 'Taylor Swift ', 35, 2200.00),\n",
        "(5, 'Mitski', 28, 1900.80);\n"
      ],
      "metadata": {
        "id": "Sq7X8zxdSVM2"
      },
      "execution_count": null,
      "outputs": []
    },
    {
      "cell_type": "code",
      "source": [
        "# User Consultas e Funções Agregadas\n",
        "# Escreva consultas SQL para realizar as seguintes tarefas: a) Selecione o nome e a idade dos clientes com idade superior a 30 anos.\n",
        "\n",
        "SELECT nome, idade FROM clientes WHERE idade > 30;\n",
        "\n",
        "# b) Calcule o saldo médio dos clientes.\n",
        "\n",
        "SELECT AVG(saldo) AS saldo_medio FROM clientes;\n",
        "\n",
        "# c) Encontre o cliente com o saldo máximo.\n",
        "\n",
        "SELECT * FROM clientes WHERE saldo = (SELECT MAX(saldo) FROM clientes);\n",
        "\n",
        "# d) Conte quantos clientes têm saldo acima de 1000.\n",
        "\n",
        "SELECT COUNT(*) AS total_clientes_saldo_acima_de_1000 FROM clientes WHERE saldo > 1000;"
      ],
      "metadata": {
        "id": "TJoMsQBeTKVY"
      },
      "execution_count": null,
      "outputs": []
    },
    {
      "cell_type": "code",
      "source": [
        "# 7. Atualização e Remoção com Condições\n",
        "# a) Atualize o saldo de um cliente específico.\n",
        "\n",
        "UPDATE clientes\n",
        "SET saldo = 2500.00\n",
        "WHERE id = 1;\n",
        "\n",
        "# b) Remova um cliente pelo seu ID.\n",
        "\n",
        "DELETE FROM clientes\n",
        "WHERE id = 3;"
      ],
      "metadata": {
        "id": "nI7i5t5ET8EQ"
      },
      "execution_count": null,
      "outputs": []
    },
    {
      "cell_type": "code",
      "source": [
        "# 8. Junção de Tabelas\n",
        "# Crie uma segunda tabela chamada \"compras\" com os campos: id(chave primária), cliente_id (chave estrangeira referenciando o id da tabela \"clientes\"), produto (texto) e valor (real).\n",
        "\n",
        "CREATE TABLE compras (\n",
        "    id INT PRIMARY KEY,\n",
        "    cliente_id INT,\n",
        "    produto TEXT,\n",
        "    valor REAL,\n",
        "    FOREIGN KEY (cliente_id) REFERENCES clientes(id)\n",
        ");\n",
        "\n",
        "# Insira algumas compras associadas a clientes existentes na tabela \"clientes\".\n",
        "\n",
        "INSERT INTO compras (id, cliente_id, produto, valor) VALUES\n",
        "(1, 1, 'Produto A', 100.00),\n",
        "(2, 2, 'Produto B', 150.50),\n",
        "(3, 1, 'Produto C', 200.75),\n",
        "(4, 3, 'Produto D', 120.00),\n",
        "(5, 4, 'Produto E', 180.25);\n",
        "\n",
        "# Escreva uma consulta para exibir o nome do cliente, o produto e o valor de cada compra.\n",
        "\n",
        "SELECT c.nome, p.produto, p.valor\n",
        "FROM clientes c\n",
        "INNER JOIN compras p ON c.id = p.cliente_id;\n"
      ],
      "metadata": {
        "id": "6Cg0CuCkU4Qg"
      },
      "execution_count": null,
      "outputs": []
    },
    {
      "cell_type": "code",
      "source": [
        "from google.colab import drive\n",
        "drive.mount('/content/drive')\n",
        "\n",
        "\n",
        "!cp /content/SQL - WoMakers Code (Alice Juliane da C. Rodrigues) /content/drive/MyDrive/\n",
        "!git clone https://github.com/Al1ceRodrigues/WoMakers-Code-SQL.git\n",
        "\n",
        "!mv /content/drive/MyDrive/SQL - WoMakers Code (Alice Juliane da C. Rodrigues) /WoMakers-Code-SQL/\n",
        "\n",
        "!git add .\n",
        "!git commit -m \"Adicionando SQL - WoMakers Code (Alice Juliane da C. Rodrigues)\"\n",
        "!git push origin main\n"
      ],
      "metadata": {
        "colab": {
          "base_uri": "https://localhost:8080/"
        },
        "id": "7bNzgaExWtsh",
        "outputId": "d337a215-50ac-42a5-f046-0bf5298c9bfd"
      },
      "execution_count": 9,
      "outputs": [
        {
          "output_type": "stream",
          "name": "stdout",
          "text": [
            "Drive already mounted at /content/drive; to attempt to forcibly remount, call drive.mount(\"/content/drive\", force_remount=True).\n",
            "/bin/bash: -c: line 1: syntax error near unexpected token `('\n",
            "/bin/bash: -c: line 1: `cp /content/SQL - WoMakers Code (Alice Juliane da C. Rodrigues) /content/drive/MyDrive/'\n",
            "fatal: destination path 'WoMakers-Code-SQL' already exists and is not an empty directory.\n",
            "/bin/bash: -c: line 1: syntax error near unexpected token `('\n",
            "/bin/bash: -c: line 1: `mv /content/drive/MyDrive/SQL - WoMakers Code (Alice Juliane da C. Rodrigues) /WoMakers-Code-SQL/'\n",
            "fatal: not a git repository (or any of the parent directories): .git\n",
            "fatal: not a git repository (or any of the parent directories): .git\n",
            "fatal: not a git repository (or any of the parent directories): .git\n"
          ]
        }
      ]
    }
  ]
}